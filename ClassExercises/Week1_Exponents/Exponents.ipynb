{
 "cells": [
  {
   "cell_type": "code",
   "execution_count": null,
   "id": "ea727cfc",
   "metadata": {},
   "outputs": [],
   "source": [
    "%load_ext autoreload\n",
    "%autoreload 2\n",
    "from binarysearch import *"
   ]
  },
  {
   "cell_type": "markdown",
   "id": "32a901ba",
   "metadata": {},
   "source": [
    "## Exponents"
   ]
  },
  {
   "cell_type": "markdown",
   "id": "b40dc2e2",
   "metadata": {},
   "source": [
    "We'll start the course by talking about exponents.  The definition we'll use is\n",
    "\n",
    "$a^b = a \\times a \\times a \\times ... \\times a$ ($b$ times)\n",
    "\n",
    "For instance, $2^4 = 2 \\times 2 \\times 2 \\times 2 = 16$\n",
    "\n",
    "In python, doing an exponential is quite simple; we just say a ** b.  For instance"
   ]
  },
  {
   "cell_type": "code",
   "execution_count": 1,
   "id": "d17b34d0",
   "metadata": {},
   "outputs": [
    {
     "data": {
      "text/plain": [
       "16"
      ]
     },
     "execution_count": 1,
     "metadata": {},
     "output_type": "execute_result"
    }
   ],
   "source": [
    "2**4"
   ]
  },
  {
   "cell_type": "markdown",
   "id": "c7b73892",
   "metadata": {},
   "source": [
    "Now let's dive right into an application of exponents to computer science.  We'll start by asking how many different binary strings (strings that only use 1's and 0's) there are with $N$ digits.  For instance, there are 8 binary strings with 3 digits: $000, 001, 010, 011, 100, 101, 110, 111$.  There's a very nice way to organize these into a binary tree structure to find a general formula.  Let's have a look below for our example with $N = 3$:\n",
    "\n",
    "<img src = \"TreeBinary3Digit.svg\" width=50%>\n",
    "\n",
    "We start with one node at the top of the tree, and then for every digit, we branch out both to the left (which we consider to be a 0) and to the right (which we consider to be a 1).  Then, for each of those branches, we can continue to recursively branch in this way to get to the next digit.  In this way, a binary string can be obtained by following some path down from the root of the tree to a leaf.  For instance, the string 101 can be obtained by going RIGHT, LEFT, RIGHT.  So we just have to count the number of leaves there are to count the number of unique binary numbers.  We notice that the number of nodes doubles at each step we go down the tree, so the total number of nodes is $2 \\times 2 \\times ... \\times 2$ N times, or simply $2^N$!"
   ]
  },
  {
   "cell_type": "markdown",
   "id": "806642ba",
   "metadata": {},
   "source": [
    "## Subset Sum And Exponential Algorithms\n",
    "\n",
    "Let's now look at a computational problem and an algorithm to solve it that takes \"exponential time\" as a function of the size of the input $N$.  \n",
    "\n",
    "The <b>subset sum problem</b> asks if we start with an array of numbers $X$ and a target number $T$, is it possible to pick some subset of numbers in $X$ that sum to $T$?  \n",
    "\n",
    "-------\n",
    "Ex) As an example, consider $X = [1, 5, 2, 6, 3, 1, 2]$ and $T = 7$.  Then there are a few different ways to satisfy this problem.  For instance, we can take\n",
    "\n",
    "$X[1] + X[2] = 5 + 2 = 7$\n",
    "\n",
    "$X[3] + X[5] = 6 + 1 = 7$\n",
    "\n",
    "$X[0] + X[3] = 1 + 6 = 7$\n",
    "\n",
    "$X[0] + X[2] + X[4] + X[5] = 1 + 2 + 3 + 1 = 7$\n",
    "\n",
    "-------\n",
    "\n",
    "A brute force algorithm would try all possible subsets of numbers and check to see if they sum to the target.  But how long will this algorithm take?  To see this, we can come up with a binary string that corresponds to each possible subset.  The table below shows how\n",
    "\n",
    "<table>\n",
    "    <tr><td></td><td>0</td><td>1</td><td>2</td><td>3</td><td>4</td><td>5</td><td>6</td></tr>\n",
    "    <tr><td>X[1]+X[2]</td><td>0</td><td>1</td><td>1</td><td>0</td><td>0</td><td>0</td><td>0</td></tr>\n",
    "    <tr><td>X[3]+X[5]</td><td>0</td><td>0</td><td>0</td><td>1</td><td>0</td><td>1</td><td>0</td></tr>\n",
    "    <tr><td>X[0]+X[3]</td><td>1</td><td>0</td><td>0</td><td>1</td><td>0</td><td>0</td><td>0</td></tr>\n",
    "    <tr><td>X[0] + X[2] + X[4] + X[5]</td><td>1</td><td>0</td><td>1</td><td>0</td><td>1</td><td>1</td><td>0</td></tr>\n",
    "</table>\n",
    "\n",
    "In other words, we put a $1$ in the $i^{\\text{th}}$ place if the number at index $i$ is a part of the sum, and a $0$ otherwise.  Since there is a one to one correspondence between binary digits and subsets, we see that there must be $2^N$ possible subsets, since we know there are $2^N$ possible binary strings with $N$ digits.  Therefore, the naive algorithm has to loop through $2^N$ possibilities.  We refer to such an algorithm as an <b>exponential algorithm</b>.  Let's have a look at how we might implement this in python."
   ]
  },
  {
   "cell_type": "code",
   "execution_count": 1,
   "id": "487d565f",
   "metadata": {},
   "outputs": [
    {
     "name": "stdout",
     "output_type": "stream",
     "text": [
      "[6, 1]\n",
      "[2, 3, 2]\n",
      "[5, 2]\n",
      "[5, 2]\n",
      "[1, 3, 1, 2]\n",
      "[1, 6]\n",
      "[1, 2, 3, 1]\n",
      "[1, 5, 1]\n"
     ]
    }
   ],
   "source": [
    "import numpy as np\n",
    "import matplotlib.pyplot as plt\n",
    "\n",
    "X = [1, 5, 2, 6, 3, 1, 2]\n",
    "L = 7\n",
    "N = len(X)\n",
    "\n",
    "for i in range(2**N): # for (int i = 0; < 2^N; i++)\n",
    "    ## Step 1: Convert this number into binary, zeropadded on the left\n",
    "    ## so that it has N digits\n",
    "    b = [int(x) for x in bin(i)[2::]]\n",
    "    if len(b) < N:\n",
    "        b = [0]*(N-len(b)) + b\n",
    "    ## Step 2: Pull out all of the numbers from the list X where\n",
    "    ## there's a 1 in the binary number\n",
    "    Xi = []\n",
    "    for k in range(len(b)):\n",
    "        if b[k] == 1:\n",
    "            Xi.append(X[k])\n",
    "    ## Step 3: Check the sum, and report it if it's right\n",
    "    if sum(Xi) == L:\n",
    "        print(Xi)"
   ]
  },
  {
   "cell_type": "markdown",
   "id": "ec518130",
   "metadata": {},
   "source": [
    "But how bad is this really?  To see this, let's plot $2^N$ as a function of $N$ for the first 20 integers"
   ]
  },
  {
   "cell_type": "code",
   "execution_count": 2,
   "id": "82e72db3",
   "metadata": {},
   "outputs": [
    {
     "data": {
      "text/plain": [
       "Text(0, 0.5, 'Number of binary strings with $N$ digits')"
      ]
     },
     "execution_count": 2,
     "metadata": {},
     "output_type": "execute_result"
    },
    {
     "data": {
      "image/png": "[encoded data removed]",
      "text/plain": [
       "<Figure size 432x288 with 1 Axes>"
      ]
     },
     "metadata": {
      "needs_background": "light"
     },
     "output_type": "display_data"
    }
   ],
   "source": [
    "N = np.arange(1, 21)\n",
    "plt.plot(N, 2**N)\n",
    "plt.xticks(N);\n",
    "plt.xlabel(\"N\");\n",
    "plt.ylabel(\"Number of binary strings with $N$ digits\")"
   ]
  },
  {
   "cell_type": "markdown",
   "id": "dfd8ee08",
   "metadata": {},
   "source": [
    "We can see that for $N = 20$, we have just over a million subsets to try"
   ]
  },
  {
   "cell_type": "code",
   "execution_count": 16,
   "id": "8db03fa4",
   "metadata": {},
   "outputs": [
    {
     "name": "stdout",
     "output_type": "stream",
     "text": [
      "3.404812988330796e-05\n"
     ]
    }
   ],
   "source": [
    "time_per_subset = 1e-6\n",
    "N1 = 50\n",
    "N2 = 30\n",
    "total_subsets = 2**N\n",
    "print(total_subsets*time_per_subset / (3600*24*365))"
   ]
  },
  {
   "cell_type": "code",
   "execution_count": 14,
   "id": "934e12d0",
   "metadata": {},
   "outputs": [
    {
     "data": {
      "text/plain": [
       "1048576"
      ]
     },
     "execution_count": 14,
     "metadata": {},
     "output_type": "execute_result"
    }
   ],
   "source": [
    "2**20"
   ]
  },
  {
   "cell_type": "code",
   "execution_count": null,
   "id": "411d7ef3",
   "metadata": {},
   "outputs": [],
   "source": [
    "for (int i = 0; i < 100; i++) {\n",
    "    \n",
    "}"
   ]
  },
  {
   "cell_type": "code",
   "execution_count": 24,
   "id": "2a09a9f1",
   "metadata": {},
   "outputs": [
    {
     "name": "stdout",
     "output_type": "stream",
     "text": [
      "350\n"
     ]
    }
   ],
   "source": [
    "x = 0\n",
    "for i in range(100):\n",
    "    x = x + 2\n",
    "    if i >= 50:\n",
    "        x = x + 3\n",
    "print(x)"
   ]
  },
  {
   "cell_type": "markdown",
   "id": "3c679f5e",
   "metadata": {},
   "source": [
    "Repeatedly divide things in half until I get to 1"
   ]
  },
  {
   "cell_type": "code",
   "execution_count": 35,
   "id": "7525019d",
   "metadata": {},
   "outputs": [
    {
     "name": "stdout",
     "output_type": "stream",
     "text": [
      "7\n",
      "9\n"
     ]
    },
    {
     "data": {
      "text/plain": [
       "Text(0, 0.5, '$log_2(N)$')"
      ]
     },
     "execution_count": 35,
     "metadata": {},
     "output_type": "execute_result"
    },
    {
     "data": {
      "image/png": "[encoded data removed]",
      "text/plain": [
       "<Figure size 640x480 with 1 Axes>"
      ]
     },
     "metadata": {},
     "output_type": "display_data"
    }
   ],
   "source": [
    "import numpy as np\n",
    "import matplotlib.pyplot as plt\n",
    "\n",
    "def log2(N):\n",
    "    res = 0\n",
    "    while N > 1:\n",
    "        N = N // 2\n",
    "        res = res + 1\n",
    "    return res\n",
    "\n",
    "print(log2(128))\n",
    "print(log2(1000))\n",
    "\n",
    "Ns = np.arange(1, 4000000, 1000)\n",
    "logs = [log2(N) for N in Ns]\n",
    "plt.plot(Ns, logs)\n",
    "plt.xlabel(\"N\")\n",
    "plt.ylabel(\"$log_2(N)$\")"
   ]
  },
  {
   "cell_type": "code",
   "execution_count": 37,
   "id": "5d2c338c",
   "metadata": {},
   "outputs": [
    {
     "data": {
      "text/plain": [
       "15"
      ]
     },
     "execution_count": 37,
     "metadata": {},
     "output_type": "execute_result"
    }
   ],
   "source": [
    "log2(50000)"
   ]
  },
  {
   "cell_type": "code",
   "execution_count": 30,
   "id": "ae77676a",
   "metadata": {},
   "outputs": [
    {
     "data": {
      "text/plain": [
       "5.0"
      ]
     },
     "execution_count": 30,
     "metadata": {},
     "output_type": "execute_result"
    }
   ],
   "source": [
    "58.5//10"
   ]
  },
  {
   "cell_type": "code",
   "execution_count": null,
   "id": "2afb85b1",
   "metadata": {},
   "outputs": [],
   "source": []
  }
 ],
 "metadata": {
  "kernelspec": {
   "display_name": "Python 3 (ipykernel)",
   "language": "python",
   "name": "python3"
  },
  "language_info": {
   "codemirror_mode": {
    "name": "ipython",
    "version": 3
   },
   "file_extension": ".py",
   "mimetype": "text/x-python",
   "name": "python",
   "nbconvert_exporter": "python",
   "pygments_lexer": "ipython3",
   "version": "3.11.3"
  }
 },
 "nbformat": 4,
 "nbformat_minor": 5
}
