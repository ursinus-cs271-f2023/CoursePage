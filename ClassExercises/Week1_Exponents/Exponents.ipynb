{
 "cells": [
  {
   "cell_type": "markdown",
   "id": "32a901ba",
   "metadata": {},
   "source": [
    "## Exponents"
   ]
  },
  {
   "cell_type": "markdown",
   "id": "b40dc2e2",
   "metadata": {},
   "source": [
    "We'll start the course by talking about exponents.  The definition we'll use is\n",
    "\n",
    "$a^b = a \\times a \\times a \\times ... \\times a$ ($b$ times)\n",
    "\n",
    "For instance, $2^4 = 2 \\times 2 \\times 2 \\times 2 = 16$\n",
    "\n",
    "In python, doing an exponential is quite simple; we just say a ** b.  For instance"
   ]
  },
  {
   "cell_type": "code",
   "execution_count": 1,
   "id": "d17b34d0",
   "metadata": {},
   "outputs": [
    {
     "data": {
      "text/plain": [
       "16"
      ]
     },
     "execution_count": 1,
     "metadata": {},
     "output_type": "execute_result"
    }
   ],
   "source": [
    "2**4"
   ]
  },
  {
   "cell_type": "markdown",
   "id": "c7b73892",
   "metadata": {},
   "source": [
    "Now let's dive right into an application of exponents to computer science.  We'll start by asking how many different binary strings (strings that only use 1's and 0's) there are with $N$ digits.  For instance, there are 8 binary strings with 3 digits: $000, 001, 010, 011, 100, 101, 110, 111$.  There's a very nice way to organize these into a binary tree structure to find a general formula.  Let's have a look below for our example with $N = 3$:\n",
    "\n",
    "<img src = \"TreeBinary3Digit.svg\" width=50%>\n",
    "\n",
    "We start with one node at the top of the tree, and then for every digit, we branch out both to the left (which we consider to be a 0) and to the right (which we consider to be a 1).  Then, for each of those branches, we can continue to recursively branch in this way to get to the next digit.  In this way, a binary string can be obtained by following some path down from the root of the tree to a leaf.  For instance, the string 101 can be obtained by going RIGHT, LEFT, RIGHT.  So we just have to count the number of leaves there are to count the number of unique binary numbers.  We notice that the number of nodes doubles at each step we go down the tree, so the total number of nodes is $2 \\times 2 \\times ... \\times 2$ N times, or simply $2^N$!"
   ]
  },
  {
   "cell_type": "markdown",
   "id": "806642ba",
   "metadata": {},
   "source": [
    "## Subset Sum And Exponential Algorithms\n",
    "\n",
    "Let's now look at a computational problem and an algorithm to solve it that takes \"exponential time\" as a function of the size of the input $N$.  \n",
    "\n",
    "The <b>subset sum problem</b> asks if we start with an array of numbers $X$ and a target number $T$, is it possible to pick some subset of numbers in $X$ that sum to $T$?  \n",
    "\n",
    "-------\n",
    "Ex) As an example, consider $X = [1, 5, 2, 6, 3, 1, 2]$ and $T = 7$.  Then there are a few different ways to satisfy this problem.  For instance, we can take\n",
    "\n",
    "$X[1] + X[2] = 5 + 2 = 7$\n",
    "\n",
    "$X[3] + X[5] = 6 + 1 = 7$\n",
    "\n",
    "$X[0] + X[3] = 1 + 6 = 7$\n",
    "\n",
    "$X[0] + X[2] + X[4] + X[5] = 1 + 2 + 3 + 1 = 7$\n",
    "\n",
    "-------\n",
    "\n",
    "A brute force algorithm would try all possible subsets of numbers and check to see if they sum to the target.  But how long will this algorithm take?  To see this, we can come up with a binary string that corresponds to each possible subset.  The table below shows how\n",
    "\n",
    "<table>\n",
    "    <tr><td></td><td>0</td><td>1</td><td>2</td><td>3</td><td>4</td><td>5</td><td>6</td></tr>\n",
    "    <tr><td>X[1]+X[2]</td><td>0</td><td>1</td><td>1</td><td>0</td><td>0</td><td>0</td><td>0</td></tr>\n",
    "    <tr><td>X[3]+X[5]</td><td>0</td><td>0</td><td>0</td><td>1</td><td>0</td><td>1</td><td>0</td></tr>\n",
    "    <tr><td>X[0]+X[3]</td><td>1</td><td>0</td><td>0</td><td>1</td><td>0</td><td>0</td><td>0</td></tr>\n",
    "    <tr><td>X[0] + X[2] + X[4] + X[5]</td><td>1</td><td>0</td><td>1</td><td>0</td><td>1</td><td>1</td><td>0</td></tr>\n",
    "</table>\n",
    "\n",
    "In other words, we put a $1$ in the $i^{\\text{th}}$ place if the number at index $i$ is a part of the sum, and a $0$ otherwise.  Since there is a one to one correspondence between binary digits and subsets, we see that there must be $2^N$ possible subsets, since we know there are $2^N$ possible binary strings with $N$ digits.  Therefore, the naive algorithm has to loop through $2^N$ possibilities.  We refer to such an algorithm as an <b>exponential algorithm</b>.  Let's have a look at how we might implement this in python."
   ]
  },
  {
   "cell_type": "code",
   "execution_count": 1,
   "id": "487d565f",
   "metadata": {},
   "outputs": [
    {
     "name": "stdout",
     "output_type": "stream",
     "text": [
      "[6, 1]\n",
      "[2, 3, 2]\n",
      "[5, 2]\n",
      "[5, 2]\n",
      "[1, 3, 1, 2]\n",
      "[1, 6]\n",
      "[1, 2, 3, 1]\n",
      "[1, 5, 1]\n"
     ]
    }
   ],
   "source": [
    "import numpy as np\n",
    "import matplotlib.pyplot as plt\n",
    "\n",
    "X = [1, 5, 2, 6, 3, 1, 2]\n",
    "L = 7\n",
    "N = len(X)\n",
    "\n",
    "for i in range(2**N): # for (int i = 0; < 2^N; i++)\n",
    "    ## Step 1: Convert this number into binary, zeropadded on the left\n",
    "    ## so that it has N digits\n",
    "    b = [int(x) for x in bin(i)[2::]]\n",
    "    if len(b) < N:\n",
    "        b = [0]*(N-len(b)) + b\n",
    "    ## Step 2: Pull out all of the numbers from the list X where\n",
    "    ## there's a 1 in the binary number\n",
    "    Xi = []\n",
    "    for k in range(len(b)):\n",
    "        if b[k] == 1:\n",
    "            Xi.append(X[k])\n",
    "    ## Step 3: Check the sum, and report it if it's right\n",
    "    if sum(Xi) == L:\n",
    "        print(Xi)"
   ]
  },
  {
   "cell_type": "markdown",
   "id": "ec518130",
   "metadata": {},
   "source": [
    "But how bad is this really?  To see this, let's plot $2^N$ as a function of $N$ for the first 20 integers"
   ]
  },
  {
   "cell_type": "code",
   "execution_count": 2,
   "id": "82e72db3",
   "metadata": {},
   "outputs": [
    {
     "data": {
      "text/plain": [
       "Text(0, 0.5, 'Number of binary strings with $N$ digits')"
      ]
     },
     "execution_count": 2,
     "metadata": {},
     "output_type": "execute_result"
    },
    {
     "data": {
      "image/png": "[encoded data removed]",
      "text/plain": [
       "<Figure size 432x288 with 1 Axes>"
      ]
     },
     "metadata": {
      "needs_background": "light"
     },
     "output_type": "display_data"
    }
   ],
   "source": [
    "N = np.arange(1, 21)\n",
    "plt.plot(N, 2**N)\n",
    "plt.xticks(N);\n",
    "plt.xlabel(\"N\");\n",
    "plt.ylabel(\"Number of binary strings with $N$ digits\")"
   ]
  },
  {
   "cell_type": "markdown",
   "id": "dfd8ee08",
   "metadata": {},
   "source": [
    "We can see that for $N = 20$, we have just over a million subsets to try"
   ]
  },
  {
   "cell_type": "code",
   "execution_count": 2,
   "id": "197d6072",
   "metadata": {},
   "outputs": [
    {
     "data": {
      "text/plain": [
       "1048576"
      ]
     },
     "execution_count": 2,
     "metadata": {},
     "output_type": "execute_result"
    }
   ],
   "source": [
    "2**20"
   ]
  },
  {
   "cell_type": "markdown",
   "id": "e053f60f",
   "metadata": {},
   "source": [
    "Moreover, this seems to be growing very quickly as $N$ gets bigger.  But how quickly?  Suppose, for example, that subset-sum takes a microsecond (1e-6 seconds) to run on 20 elements.  Then how long will it take to run on 100 elements?  Well, by our reasoning above, we'll have to multiply by 80 additional factors of 2"
   ]
  },
  {
   "cell_type": "code",
   "execution_count": 3,
   "id": "bdd05e66",
   "metadata": {},
   "outputs": [
    {
     "data": {
      "text/plain": [
       "1.208925819614629e+18"
      ]
     },
     "execution_count": 3,
     "metadata": {},
     "output_type": "execute_result"
    }
   ],
   "source": [
    "(1e-6)*(2**80)"
   ]
  },
  {
   "cell_type": "markdown",
   "id": "93f3c060",
   "metadata": {},
   "source": [
    "That's a lot of seconds!  Let's convert it to years to get a better idea for how bad this is.  There are 3600 seconds in an hour, 24 hours and a day, and generally 365 days in a year.  So that brings us to"
   ]
  },
  {
   "cell_type": "code",
   "execution_count": 4,
   "id": "cf89bcb7",
   "metadata": {},
   "outputs": [
    {
     "data": {
      "text/plain": [
       "38334786263.782"
      ]
     },
     "execution_count": 4,
     "metadata": {},
     "output_type": "execute_result"
    }
   ],
   "source": [
    "(1e-6)*(2**80)/(3600*24*365)"
   ]
  },
  {
   "cell_type": "markdown",
   "id": "95174f4a",
   "metadata": {},
   "source": [
    "Or nearly <b>40 billion years</b>!!  But 100 isn't that much larger than 20, which only took a microsecond.  And herein lies the problem with exponential algorithms.  Even though they may run alright on inputs of small size, they blow up in computation time very quickly.  So <b>we generally do not consider exponential time algorithms to be good enough in practice</b>, because they start to degrade and become impractical very quickly with just the addition of a few inputs, even if they seem alright at first.  \n",
    "\n",
    "Interestingly, when the numbers are real (floating point) numbers, the naive algorithm that tries all possibilities is roughly the best we can do.  But we'll see in the recursion unit a way to do this more efficiently if all of the numbers are integers, as in the above example"
   ]
  },
  {
   "cell_type": "code",
   "execution_count": null,
   "id": "934e12d0",
   "metadata": {},
   "outputs": [],
   "source": []
  }
 ],
 "metadata": {
  "kernelspec": {
   "display_name": "Python 3 (ipykernel)",
   "language": "python",
   "name": "python3"
  },
  "language_info": {
   "codemirror_mode": {
    "name": "ipython",
    "version": 3
   },
   "file_extension": ".py",
   "mimetype": "text/x-python",
   "name": "python",
   "nbconvert_exporter": "python",
   "pygments_lexer": "ipython3",
   "version": "3.11.3"
  }
 },
 "nbformat": 4,
 "nbformat_minor": 5
}
