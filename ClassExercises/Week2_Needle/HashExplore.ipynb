{
 "cells": [
  {
   "cell_type": "markdown",
   "id": "7f17649f",
   "metadata": {},
   "source": [
    "\n",
    "<img src = \"Wikipe-tan_on_the_haystack.png\" width=300>\n",
    "\n",
    "\n",
    "We discussed in class the problem of finding a needle in a haystack.  More specifically, the <b>abstract data type</b> (data structures version of an <a href = \"https://www.mulesoft.com/resources/api/what-is-an-api\">API</a>), specifies the following three operations we need to do to a collection of objects:\n",
    "\n",
    "* find\n",
    "* add\n",
    "* remove\n",
    "    \n",
    "Officially, this is called the <b>Set</b> ADT.  To keep things simple, we will assume our data structure has *exactly one* copy of each element.  So if we say add(5) add(5) remove(5), then there is no longer a 5 (adding the second time had no effect).  Also, we'll assume that removing an element that isn't there does nothing.\n",
    "\n",
    "As far as implementations go, we discussed four different options\n",
    "\n",
    "* Ordinary array (of a fixed size, such as numpy's arrays)\n",
    "* Sorted array\n",
    "* Linked List\n",
    "* Hash Table\n",
    "\n",
    "We came up with the following table of the worst case number of operations one would have to do to perform our operations for a collection that currently has $N$ items:\n",
    "\n",
    "<table style=\"width:600px;\">\n",
    "    <tr>\n",
    "        <td></td>\n",
    "        <td>Find</td>\n",
    "        <td>Add</td>\n",
    "        <td>Remove</td>\n",
    "    </tr>\n",
    "    <tr>\n",
    "        <td>Ordinary Array</td>\n",
    "        <td>$\\approx N$</td>\n",
    "        <td>$\\approx 2N$</td>\n",
    "        <td>$\\approx 3N$</td>\n",
    "    </tr>\n",
    "    <tr>\n",
    "        <td>Sorted Array</td>\n",
    "        <td>$\\approx log_2(N)$</td>\n",
    "        <td>$\\approx 2N$</td>\n",
    "        <td>$\\approx 2N + log_2(N)$</td>\n",
    "    </tr>\n",
    "    <tr>\n",
    "        <td>Linked List</td>\n",
    "        <td>$\\approx N$</td>\n",
    "        <td>$\\approx 1$</td>\n",
    "        <td>$\\approx N$</td>\n",
    "    </tr>\n",
    "</table>\n",
    "    \n",
    "Below are some explanations\n",
    "    \n",
    "### Ordinary Array\n",
    "* When we search for an element in an array, we might find it all the way at the end.  \n",
    "* When we add an element, we have to create an entirely new array with N+1 elements, copy all N elements over that were there before, and add the new element.  \n",
    "* When we remove an element, we first have to check to see if the element is there.  Then, if it is, we need to remove it.  To do this, we have to create a new array with N-1 elements, then loop through and copy over all of the elements except for the one we're removing.  This is at worst 3 passes through an N-length array\n",
    "\n",
    "### Sorted Array\n",
    "This is similar to the above, except searching is more efficient because we can continually halve our search range until there's only one element left (<a href = \"../Week1_CSLog\">recall the definition we gave of log</a>).  We'll explore this algorithm more in the first lab.  But it speeds up the find step, as well as the remove step (since finding is the first thing we do)\n",
    "\n",
    "### Linked List\n",
    "    \n",
    "Searching/finding is just a matter of following the links, starting at the head.  In the worst case, the element is at the end, or it isn't there at all, in which case we have to walk through all $N$ link nodes.  Let's break down adding and removing in a bit more detail:\n",
    "\n",
    "#### Linked List Adding\n",
    "\n",
    "We just make the element we want to add the new head\n",
    "\n",
    "<img src = \"LLAdd.svg\" width=400>\n",
    "\n",
    "Specifically, the steps are\n",
    "1. new.next = head\n",
    "2. head = new\n",
    "    \n",
    "    \n",
    "#### Linked List Removing\n",
    "\n",
    "<img src = \"LLRem.svg\" width=800>\n",
    "\n",
    "This is a little bit trickier, but the basics are the same.  We have to find the element and then reassign pointers to circumvent the element we're trying to remove (assuming there's a garbag collector around to clean up the orphaned node).  Let's assume that it's actually there (otherwise, we just get to the end and don't do anything).  Let's also assume that it's somewhere in the middle (you'd have to handle it being the beginning as a special case).  Then the pseudocode is as follows\n",
    "\n",
    "* node = head, last = None\n",
    "* found = False\n",
    "* while node.elem != x:\n",
    "    * last = node\n",
    "    * node = node.next\n",
    "* last.next = node.next\n",
    "\n",
    "\n",
    "### Summary of Basic Implementations\n",
    "\n",
    "We've made improvements with the sorted array and linked list, but it seems like we're playing a game of whack-a-mole; we made adding more efficient with a linked list, but searching got slow again.  How can we improve this?\n",
    "\n",
    "<img src = \"mole-156762_1280.png\" width=200>\n"
   ]
  },
  {
   "cell_type": "markdown",
   "id": "b0c15ed5",
   "metadata": {},
   "source": [
    "# Intro To Hashing\n",
    "\n",
    "The solution to a more efficient set ADT is actually incredibly simple.  We just have to combine arrays and linked lists in clever ways.  What we will do is split up our data into a bunch of *buckets*.  Each bucket will hold one small chunk of our data.  When we want to find an element, we will be able to jump directly to a bucket that would contain it if it were in our set (and likewise for removing and adding).  \n",
    "\n",
    "Students had some neat ideas in class about creating buckets.  For instance, if we knew the range of our numbers was from $a$ to $b$ and we wanted *N* buckets, then we could setup the buckets so that they contained numbers in the range\n",
    "\n",
    "* $[a, a+(b-a)/N)$\n",
    "* $[a+(b-a)/N, a+2(b-a)/N)$\n",
    "* ...\n",
    "\n",
    "For instance, if we wanted 4 buckets for numbers between 0 and 99, we could do buckets with ranges $[0, 24], [25, 49], [50, 74], [75, 99]$\n",
    "\n",
    "The code for this would be OK enough, but then things would get instantly messed up as soon as we made a number that went beyond the range.\n",
    "\n",
    "Actually, there's a solution even simpler than this that works in a more general case where we don't have to assume the range!  Given $b$ buckets, we simply map a number $x$ to $x \\% b$!  For example, if we chose $b=2$, all even numbers would go into one bucket, and all odd numbers go into another bucket.\n",
    "\n",
    "Let's look at a few different ways to implement this with numbers in python.  We'll cheat and use a random access list for now, but technically each bucket contains a *linked list*, since these are more efficient than unsorted arrays by our above discussion.  You'll implement the linked list version in your first homework\n"
   ]
  },
  {
   "cell_type": "code",
   "execution_count": 1,
   "id": "6ec050e0",
   "metadata": {},
   "outputs": [],
   "source": [
    "import numpy as np"
   ]
  },
  {
   "cell_type": "code",
   "execution_count": 2,
   "id": "19b38790",
   "metadata": {},
   "outputs": [],
   "source": [
    "# Make some unique random numbers\n",
    "np.random.seed(4)\n",
    "nums = np.unique(np.random.randint(0, 50, 50))"
   ]
  },
  {
   "cell_type": "code",
   "execution_count": 3,
   "id": "5ae9739a",
   "metadata": {},
   "outputs": [
    {
     "name": "stdout",
     "output_type": "stream",
     "text": [
      "0 [0, 30, 40]\n",
      "1 [1, 21, 31]\n",
      "2 [2, 12, 32, 42]\n",
      "3 [3, 23, 33]\n",
      "4 [34, 44]\n",
      "5 [5, 15, 25, 45]\n",
      "6 [36, 46]\n",
      "7 [17]\n",
      "8 [8, 28, 38, 48]\n",
      "9 [9, 39, 49]\n"
     ]
    }
   ],
   "source": [
    "n_buckets = 10\n",
    "table = []\n",
    "for i in range(n_buckets):\n",
    "    table.append([]) # Create an empty list for each bucket\n",
    "for i in range(len(nums)):\n",
    "    # If I have a remainder of i, put this number\n",
    "    # in bucket i\n",
    "    # The main trick here is how we index the array of buckets\n",
    "    table[nums[i]%n_buckets].append(nums[i]) \n",
    "for i in range(n_buckets):\n",
    "    print(i, table[i])"
   ]
  },
  {
   "cell_type": "markdown",
   "id": "3eb46aed",
   "metadata": {},
   "source": [
    "Here's an even more compact solution using numpy"
   ]
  },
  {
   "cell_type": "code",
   "execution_count": 4,
   "id": "58ebe8e6",
   "metadata": {},
   "outputs": [
    {
     "name": "stdout",
     "output_type": "stream",
     "text": [
      "0 [0, 30, 40]\n",
      "1 [1, 21, 31]\n",
      "2 [2, 12, 32, 42]\n",
      "3 [3, 23, 33]\n",
      "4 [34, 44]\n",
      "5 [5, 15, 25, 45]\n",
      "6 [36, 46]\n",
      "7 [17]\n",
      "8 [8, 28, 38, 48]\n",
      "9 [9, 39, 49]\n"
     ]
    }
   ],
   "source": [
    "# Mike's solution (using numpy)\n",
    "for i in range(n_buckets):\n",
    "    table.append(nums[nums%n_buckets==i]) \n",
    "for i in range(n_buckets):\n",
    "    print(i, table[i])"
   ]
  },
  {
   "cell_type": "markdown",
   "id": "061dc4bf",
   "metadata": {},
   "source": [
    "One thing we discussed in class was the space/time tradeoff between using more buckets.  If we use more buckets, we have fewer elements that \"collide\" (i.e. occupy the same bucket) in each bucket, so it doesn't take as much time to find what we're looking for or to add/remove something.  However, it takes more memory to store the buckets.  But actually, if we use a number of buckets on the order of the number of elements we expect to have, this isn't terrible; we're just roughly doubling the amount of memory we need, but we get things more efficient.  Let's do this on the example below"
   ]
  },
  {
   "cell_type": "code",
   "execution_count": 5,
   "id": "2e29eb6f",
   "metadata": {},
   "outputs": [
    {
     "name": "stdout",
     "output_type": "stream",
     "text": [
      "0 [0]\n",
      "1 [1]\n",
      "2 [2]\n",
      "3 [3]\n",
      "4 []\n",
      "5 [5]\n",
      "6 []\n",
      "7 []\n",
      "8 [8]\n",
      "9 [9]\n",
      "10 []\n",
      "11 []\n",
      "12 [12]\n",
      "13 []\n",
      "14 []\n",
      "15 [15]\n",
      "16 []\n",
      "17 [17]\n",
      "18 []\n",
      "19 []\n",
      "20 []\n",
      "21 [21]\n",
      "22 []\n",
      "23 [23]\n",
      "24 []\n",
      "25 [25]\n",
      "26 []\n",
      "27 []\n",
      "28 [28]\n",
      "29 []\n",
      "30 [30]\n",
      "31 [31]\n",
      "32 [32]\n",
      "33 [33]\n",
      "34 [34]\n",
      "35 []\n",
      "36 [36]\n",
      "37 []\n",
      "38 [38]\n",
      "39 [39]\n",
      "40 [40]\n",
      "41 []\n",
      "42 [42]\n",
      "43 []\n",
      "44 [44]\n",
      "45 [45]\n",
      "46 [46]\n",
      "47 []\n",
      "48 [48]\n",
      "49 [49]\n"
     ]
    }
   ],
   "source": [
    "table = []\n",
    "n_buckets=50\n",
    "for i in range(n_buckets):\n",
    "    table.append(nums[nums%n_buckets==i]) \n",
    "for i in range(n_buckets):\n",
    "    print(i, table[i])"
   ]
  },
  {
   "cell_type": "markdown",
   "id": "3bddfdbf",
   "metadata": {},
   "source": [
    "By contrast, here's only using 3 buckets"
   ]
  },
  {
   "cell_type": "code",
   "execution_count": 6,
   "id": "0a9ad684",
   "metadata": {},
   "outputs": [
    {
     "name": "stdout",
     "output_type": "stream",
     "text": [
      "0 [ 0  3  9 12 15 21 30 33 36 39 42 45 48]\n",
      "1 [ 1 25 28 31 34 40 46 49]\n",
      "2 [ 2  5  8 17 23 32 38 44]\n"
     ]
    }
   ],
   "source": [
    "table = []\n",
    "n_buckets=3\n",
    "for i in range(n_buckets):\n",
    "    table.append(nums[nums%n_buckets==i]) \n",
    "for i in range(n_buckets):\n",
    "    print(i, table[i])"
   ]
  },
  {
   "cell_type": "markdown",
   "id": "ac7fbead",
   "metadata": {},
   "source": [
    "## Hash codes\n",
    "\n",
    "In order to extend what we did above to objects, we need to define a consistent way of turning our objects into numbers.  This is known as a *hash code*.  A hash code should be *deterministic*; that is, it shouldn't change.  For example, a hash code for a person could be the month of the year that they were born.  Below is an example of what a hash table would look like for Harry Potter characters based on this hash function (using the birthdays of the actors who played them in the movies).  Notice how the linked lists are setup in each bucket\n",
    "\n",
    "<img src = \"HarryPotter.svg\">\n",
    "\n",
    "\n",
    "You can examine such hash codes live for Harry Potter characters at <a href = \"../AlgorithmsDemos/Hashing/Hashing.html\">this link</a>.\n",
    "\n",
    "We started to discuss some of theoretical properties of hash functions, starting with the *pigeonhole principle*.  In this context, if we have more objects than we do buckets, then we are guaranteed to have a collision."
   ]
  },
  {
   "cell_type": "markdown",
   "id": "5c0b3143",
   "metadata": {},
   "source": [
    "## Hash codes"
   ]
  },
  {
   "cell_type": "code",
   "execution_count": null,
   "id": "90b09332",
   "metadata": {},
   "outputs": [],
   "source": []
  }
 ],
 "metadata": {
  "kernelspec": {
   "display_name": "Python 3 (ipykernel)",
   "language": "python",
   "name": "python3"
  },
  "language_info": {
   "codemirror_mode": {
    "name": "ipython",
    "version": 3
   },
   "file_extension": ".py",
   "mimetype": "text/x-python",
   "name": "python",
   "nbconvert_exporter": "python",
   "pygments_lexer": "ipython3",
   "version": "3.9.7"
  }
 },
 "nbformat": 4,
 "nbformat_minor": 5
}
